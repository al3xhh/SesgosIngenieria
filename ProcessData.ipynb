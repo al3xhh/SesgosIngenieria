{
 "cells": [
  {
   "cell_type": "code",
   "execution_count": 105,
   "metadata": {
    "collapsed": true
   },
   "outputs": [],
   "source": [
    "import pandas as pd\n",
    "import numpy as np\n",
    "import matplotlib.pyplot as plt\n",
    "import pandas as pd\n",
    "import sys\n",
    "import math"
   ]
  },
  {
   "cell_type": "code",
   "execution_count": 106,
   "metadata": {},
   "outputs": [
    {
     "data": {
      "text/html": [
       "<div>\n",
       "<style scoped>\n",
       "    .dataframe tbody tr th:only-of-type {\n",
       "        vertical-align: middle;\n",
       "    }\n",
       "\n",
       "    .dataframe tbody tr th {\n",
       "        vertical-align: top;\n",
       "    }\n",
       "\n",
       "    .dataframe thead th {\n",
       "        text-align: right;\n",
       "    }\n",
       "</style>\n",
       "<table border=\"1\" class=\"dataframe\">\n",
       "  <thead>\n",
       "    <tr style=\"text-align: right;\">\n",
       "      <th></th>\n",
       "      <th>Edad</th>\n",
       "      <th>Género</th>\n",
       "      <th>EstudiosActuales</th>\n",
       "      <th>EstudiosFuturosPrimaria</th>\n",
       "      <th>Porque1</th>\n",
       "      <th>AsignaturasPreferidasPrimaria</th>\n",
       "      <th>AsignaturasPeorPrimaria</th>\n",
       "      <th>EstudiosFuturosBach</th>\n",
       "      <th>Porque2</th>\n",
       "      <th>PorqueNoCiencias</th>\n",
       "      <th>...</th>\n",
       "      <th>RamaEstudios</th>\n",
       "      <th>PorqueRama</th>\n",
       "      <th>CorrespondePrimeraOpcionSelectividad</th>\n",
       "      <th>CorrespondePequeñx</th>\n",
       "      <th>Porque3</th>\n",
       "      <th>OpinionInformaticxs</th>\n",
       "      <th>BaseOpinion</th>\n",
       "      <th>Desanimo</th>\n",
       "      <th>Porque4</th>\n",
       "      <th>PorqueMenosMujeres</th>\n",
       "    </tr>\n",
       "  </thead>\n",
       "  <tbody>\n",
       "    <tr>\n",
       "      <th>0</th>\n",
       "      <td>17</td>\n",
       "      <td>Mujer</td>\n",
       "      <td>Bachillerato/Grado Medio</td>\n",
       "      <td>NaN</td>\n",
       "      <td>NaN</td>\n",
       "      <td>NaN</td>\n",
       "      <td>NaN</td>\n",
       "      <td>Ciencias de la salud ( Enfermería, Medicina, O...</td>\n",
       "      <td>Porque realmente te gusta</td>\n",
       "      <td>porque se exactamente lo que me gusta</td>\n",
       "      <td>...</td>\n",
       "      <td>NaN</td>\n",
       "      <td>NaN</td>\n",
       "      <td>NaN</td>\n",
       "      <td>NaN</td>\n",
       "      <td>NaN</td>\n",
       "      <td>Me parecen muy utiles</td>\n",
       "      <td>conocidos</td>\n",
       "      <td>No</td>\n",
       "      <td>a mi siempre me han animado a cualquier carrera</td>\n",
       "      <td>desinformacion</td>\n",
       "    </tr>\n",
       "    <tr>\n",
       "      <th>1</th>\n",
       "      <td>17</td>\n",
       "      <td>Mujer</td>\n",
       "      <td>Bachillerato/Grado Medio</td>\n",
       "      <td>NaN</td>\n",
       "      <td>NaN</td>\n",
       "      <td>NaN</td>\n",
       "      <td>NaN</td>\n",
       "      <td>Ciencias de la salud ( Enfermería, Medicina, O...</td>\n",
       "      <td>Porque realmente te gusta</td>\n",
       "      <td>NaN</td>\n",
       "      <td>...</td>\n",
       "      <td>NaN</td>\n",
       "      <td>NaN</td>\n",
       "      <td>NaN</td>\n",
       "      <td>NaN</td>\n",
       "      <td>NaN</td>\n",
       "      <td>Es una carrera muy necesaria</td>\n",
       "      <td>En lo que me cuentan conocidos/as/familiares q...</td>\n",
       "      <td>No</td>\n",
       "      <td>Nunca nos dicen que carreras podemos estudiar</td>\n",
       "      <td>Porque hoy en día todavia se cree que hay carr...</td>\n",
       "    </tr>\n",
       "    <tr>\n",
       "      <th>2</th>\n",
       "      <td>17</td>\n",
       "      <td>Mujer</td>\n",
       "      <td>Bachillerato/Grado Medio</td>\n",
       "      <td>NaN</td>\n",
       "      <td>NaN</td>\n",
       "      <td>NaN</td>\n",
       "      <td>NaN</td>\n",
       "      <td>Ciencias de la salud ( Enfermería, Medicina, O...</td>\n",
       "      <td>Porque realmente te gusta;Porque tiene salidas...</td>\n",
       "      <td>NaN</td>\n",
       "      <td>...</td>\n",
       "      <td>NaN</td>\n",
       "      <td>NaN</td>\n",
       "      <td>NaN</td>\n",
       "      <td>NaN</td>\n",
       "      <td>NaN</td>\n",
       "      <td>Que su trabajo es difícil</td>\n",
       "      <td>En lo que me cuentan conocidos/as/familiares q...</td>\n",
       "      <td>Si</td>\n",
       "      <td>Porque se las infravalora</td>\n",
       "      <td>No lo sé</td>\n",
       "    </tr>\n",
       "    <tr>\n",
       "      <th>3</th>\n",
       "      <td>19</td>\n",
       "      <td>Hombre</td>\n",
       "      <td>Bachillerato/Grado Medio</td>\n",
       "      <td>NaN</td>\n",
       "      <td>NaN</td>\n",
       "      <td>NaN</td>\n",
       "      <td>NaN</td>\n",
       "      <td>Ciencias sociales (Sociología, Economía, Cienc...</td>\n",
       "      <td>Porque tiene salidas profesionales</td>\n",
       "      <td>inef</td>\n",
       "      <td>...</td>\n",
       "      <td>NaN</td>\n",
       "      <td>NaN</td>\n",
       "      <td>NaN</td>\n",
       "      <td>NaN</td>\n",
       "      <td>NaN</td>\n",
       "      <td>que es un trabajo muy dificil</td>\n",
       "      <td>En lo que me cuentan conocidos/as/familiares q...</td>\n",
       "      <td>No</td>\n",
       "      <td>creo que hay las mismas igualdades</td>\n",
       "      <td>nolose</td>\n",
       "    </tr>\n",
       "    <tr>\n",
       "      <th>4</th>\n",
       "      <td>19</td>\n",
       "      <td>Hombre</td>\n",
       "      <td>Bachillerato/Grado Medio</td>\n",
       "      <td>NaN</td>\n",
       "      <td>NaN</td>\n",
       "      <td>NaN</td>\n",
       "      <td>NaN</td>\n",
       "      <td>Ingeniería ( Informática, Telecomunicaciones, ...</td>\n",
       "      <td>Porque tiene salidas profesionales</td>\n",
       "      <td>NaN</td>\n",
       "      <td>...</td>\n",
       "      <td>NaN</td>\n",
       "      <td>NaN</td>\n",
       "      <td>NaN</td>\n",
       "      <td>NaN</td>\n",
       "      <td>NaN</td>\n",
       "      <td>opino que es el futuro y tiene salidas</td>\n",
       "      <td>Porque lo soy o estoy estudiando para serlo</td>\n",
       "      <td>No</td>\n",
       "      <td>porque cada uno elige lo que quiere estudiar</td>\n",
       "      <td>porque les interesará otro tipo de carreras</td>\n",
       "    </tr>\n",
       "  </tbody>\n",
       "</table>\n",
       "<p>5 rows × 23 columns</p>\n",
       "</div>"
      ],
      "text/plain": [
       "   Edad  Género          EstudiosActuales EstudiosFuturosPrimaria Porque1   \\\n",
       "0    17   Mujer  Bachillerato/Grado Medio                     NaN      NaN   \n",
       "1    17   Mujer  Bachillerato/Grado Medio                     NaN      NaN   \n",
       "2    17   Mujer  Bachillerato/Grado Medio                     NaN      NaN   \n",
       "3    19  Hombre  Bachillerato/Grado Medio                     NaN      NaN   \n",
       "4    19  Hombre  Bachillerato/Grado Medio                     NaN      NaN   \n",
       "\n",
       "  AsignaturasPreferidasPrimaria AsignaturasPeorPrimaria  \\\n",
       "0                           NaN                     NaN   \n",
       "1                           NaN                     NaN   \n",
       "2                           NaN                     NaN   \n",
       "3                           NaN                     NaN   \n",
       "4                           NaN                     NaN   \n",
       "\n",
       "                                 EstudiosFuturosBach  \\\n",
       "0  Ciencias de la salud ( Enfermería, Medicina, O...   \n",
       "1  Ciencias de la salud ( Enfermería, Medicina, O...   \n",
       "2  Ciencias de la salud ( Enfermería, Medicina, O...   \n",
       "3  Ciencias sociales (Sociología, Economía, Cienc...   \n",
       "4  Ingeniería ( Informática, Telecomunicaciones, ...   \n",
       "\n",
       "                                             Porque2  \\\n",
       "0                          Porque realmente te gusta   \n",
       "1                          Porque realmente te gusta   \n",
       "2  Porque realmente te gusta;Porque tiene salidas...   \n",
       "3                 Porque tiene salidas profesionales   \n",
       "4                 Porque tiene salidas profesionales   \n",
       "\n",
       "                        PorqueNoCiencias  \\\n",
       "0  porque se exactamente lo que me gusta   \n",
       "1                                    NaN   \n",
       "2                                    NaN   \n",
       "3                                   inef   \n",
       "4                                    NaN   \n",
       "\n",
       "                         ...                         RamaEstudios PorqueRama  \\\n",
       "0                        ...                                  NaN        NaN   \n",
       "1                        ...                                  NaN        NaN   \n",
       "2                        ...                                  NaN        NaN   \n",
       "3                        ...                                  NaN        NaN   \n",
       "4                        ...                                  NaN        NaN   \n",
       "\n",
       "  CorrespondePrimeraOpcionSelectividad CorrespondePequeñx Porque3  \\\n",
       "0                                  NaN                NaN     NaN   \n",
       "1                                  NaN                NaN     NaN   \n",
       "2                                  NaN                NaN     NaN   \n",
       "3                                  NaN                NaN     NaN   \n",
       "4                                  NaN                NaN     NaN   \n",
       "\n",
       "                       OpinionInformaticxs  \\\n",
       "0                    Me parecen muy utiles   \n",
       "1             Es una carrera muy necesaria   \n",
       "2                Que su trabajo es difícil   \n",
       "3            que es un trabajo muy dificil   \n",
       "4  opino que es el futuro y tiene salidas    \n",
       "\n",
       "                                         BaseOpinion Desanimo  \\\n",
       "0                                          conocidos       No   \n",
       "1  En lo que me cuentan conocidos/as/familiares q...       No   \n",
       "2  En lo que me cuentan conocidos/as/familiares q...       Si   \n",
       "3  En lo que me cuentan conocidos/as/familiares q...       No   \n",
       "4        Porque lo soy o estoy estudiando para serlo       No   \n",
       "\n",
       "                                           Porque4  \\\n",
       "0  a mi siempre me han animado a cualquier carrera   \n",
       "1    Nunca nos dicen que carreras podemos estudiar   \n",
       "2                        Porque se las infravalora   \n",
       "3               creo que hay las mismas igualdades   \n",
       "4     porque cada uno elige lo que quiere estudiar   \n",
       "\n",
       "                                  PorqueMenosMujeres  \n",
       "0                                     desinformacion  \n",
       "1  Porque hoy en día todavia se cree que hay carr...  \n",
       "2                                           No lo sé  \n",
       "3                                             nolose  \n",
       "4        porque les interesará otro tipo de carreras  \n",
       "\n",
       "[5 rows x 23 columns]"
      ]
     },
     "execution_count": 106,
     "metadata": {},
     "output_type": "execute_result"
    }
   ],
   "source": [
    "df = pd.read_csv('Data.csv')\n",
    "del df['Marca temporal']\n",
    "df.head()"
   ]
  },
  {
   "cell_type": "code",
   "execution_count": 107,
   "metadata": {
    "collapsed": true
   },
   "outputs": [],
   "source": [
    "mujeres = df[df['Género'] == 'Mujer']\n",
    "hombres = df[df['Género'] == 'Hombre']"
   ]
  },
  {
   "cell_type": "markdown",
   "metadata": {},
   "source": [
    "<p>Miramos que mujeres en proporcion de primaria, ESO, Bachillerato y Universidad se sienten desanimadas o la gente opina que se las desanima</p>"
   ]
  },
  {
   "cell_type": "code",
   "execution_count": 108,
   "metadata": {
    "scrolled": true
   },
   "outputs": [
    {
     "name": "stdout",
     "output_type": "stream",
     "text": [
      "Mujeres que opinan que si se las desanima: 41\n",
      "Mujeres que opinan que si se las desanima y son de primaria: 1/4\n",
      "Mujeres que opinan que si se las desanima y son de la ESO: 22/62\n",
      "Mujeres que opinan que si se las desanima y son de Bach: 11/18\n",
      "Mujeres que opinan que si se las desanima y son de estudios superiores: 7/10\n"
     ]
    }
   ],
   "source": [
    "desanimoMujeres = mujeres.filter(['EstudiosActuales', 'Desanimo', 'Porque4'], axis=1)\n",
    "desanimoMujeresNo = desanimoMujeres[desanimoMujeres['Desanimo'] == 'No']\n",
    "desanimoMujeresNoPrimaria = desanimoMujeresNo[desanimoMujeresNo['EstudiosActuales'] == 'Primaria']\n",
    "desanimoMujeresNoESO = desanimoMujeresNo[desanimoMujeresNo['EstudiosActuales'] == 'Secundaria (ESO)']\n",
    "desanimoMujeresNoBach = desanimoMujeresNo[desanimoMujeresNo['EstudiosActuales'] == 'Bachillerato/Grado Medio']\n",
    "desanimoMujeresNoUni = desanimoMujeresNo[desanimoMujeresNo['EstudiosActuales'] == 'Carrera universitaria/ Grado superior']\n",
    "desanimoMujeresSi = desanimoMujeres[desanimoMujeres['Desanimo'] == 'Si']\n",
    "desanimoMujeresSiPrimaria = desanimoMujeresSi[desanimoMujeresSi['EstudiosActuales'] == 'Primaria']\n",
    "desanimoMujeresSiESO = desanimoMujeresSi[desanimoMujeresSi['EstudiosActuales'] == 'Secundaria (ESO)']\n",
    "desanimoMujeresSiBach = desanimoMujeresSi[desanimoMujeresSi['EstudiosActuales'] == 'Bachillerato/Grado Medio']\n",
    "desanimoMujeresSiUni = desanimoMujeresSi[desanimoMujeresSi['EstudiosActuales'] == 'Carrera universitaria/ Grado superior']\n",
    "print \"Mujeres que opinan que si se las desanima: \" + str(desanimoMujeresSi.shape[0])\n",
    "print \"Mujeres que opinan que si se las desanima y son de primaria: \" + str(desanimoMujeresSiPrimaria.shape[0])   + \"/\" + str(desanimoMujeresNoPrimaria.shape[0] + desanimoMujeresSiPrimaria.shape[0])\n",
    "print \"Mujeres que opinan que si se las desanima y son de la ESO: \" + str(desanimoMujeresSiESO.shape[0])   + \"/\" + str(desanimoMujeresNoESO.shape[0] + desanimoMujeresSiESO.shape[0])\n",
    "print \"Mujeres que opinan que si se las desanima y son de Bach: \" + str(desanimoMujeresSiBach.shape[0])   + \"/\" + str(desanimoMujeresNoBach.shape[0] + desanimoMujeresSiBach.shape[0])\n",
    "print \"Mujeres que opinan que si se las desanima y son de estudios superiores: \" + str(desanimoMujeresSiUni.shape[0])   + \"/\" + str(desanimoMujeresNoUni.shape[0] + desanimoMujeresSiUni.shape[0])"
   ]
  },
  {
   "cell_type": "markdown",
   "metadata": {},
   "source": [
    "<p>Miramos cuantos hombres en proporcion de primaria, ESO, Bachillerato y Universidad piensan que se desanima a las mujeres</p>"
   ]
  },
  {
   "cell_type": "code",
   "execution_count": 109,
   "metadata": {},
   "outputs": [
    {
     "name": "stdout",
     "output_type": "stream",
     "text": [
      "Hombres que opinan que si se las desanima: 22\n",
      "Hombres que opinan que si se las desanima y son de primaria: 1/6\n",
      "Hombres que opinan que si se las desanima y son de la ESO: 14/50\n",
      "Hombres que opinan que si se las desanima y son de Bach: 4/13\n",
      "Hombres que opinan que si se las desanima y son de estudios superiores: 3/4\n"
     ]
    }
   ],
   "source": [
    "desanimoHombres = hombres.filter(['EstudiosActuales', 'Desanimo', 'Porque4'], axis=1)\n",
    "desanimoHombresNo = desanimoHombres[desanimoHombres['Desanimo'] == 'No']\n",
    "desanimoHombresNoPrimaria = desanimoHombresNo[desanimoHombresNo['EstudiosActuales'] == 'Primaria']\n",
    "desanimoHombresNoESO = desanimoHombresNo[desanimoHombresNo['EstudiosActuales'] == 'Secundaria (ESO)']\n",
    "desanimoHombresNoBach = desanimoHombresNo[desanimoHombresNo['EstudiosActuales'] == 'Bachillerato/Grado Medio']\n",
    "desanimoHombresNoUni = desanimoHombresNo[desanimoHombresNo['EstudiosActuales'] == 'Carrera universitaria/ Grado superior']\n",
    "desanimoHombresSi = desanimoHombres[desanimoHombres['Desanimo'] == 'Si']\n",
    "desanimoHombresSiPrimaria = desanimoHombresSi[desanimoHombresSi['EstudiosActuales'] == 'Primaria']\n",
    "desanimoHombresSiESO = desanimoHombresSi[desanimoHombresSi['EstudiosActuales'] == 'Secundaria (ESO)']\n",
    "desanimoHombresSiBach = desanimoHombresSi[desanimoHombresSi['EstudiosActuales'] == 'Bachillerato/Grado Medio']\n",
    "desanimoHombresSiUni = desanimoHombresSi[desanimoHombresSi['EstudiosActuales'] == 'Carrera universitaria/ Grado superior']\n",
    "print \"Hombres que opinan que si se las desanima: \" + str(desanimoHombresSi.shape[0])\n",
    "print \"Hombres que opinan que si se las desanima y son de primaria: \" + str(desanimoHombresSiPrimaria.shape[0])   + \"/\" + str(desanimoHombresNoPrimaria.shape[0] + desanimoHombresSiPrimaria.shape[0])\n",
    "print \"Hombres que opinan que si se las desanima y son de la ESO: \" + str(desanimoHombresSiESO.shape[0])   + \"/\" + str(desanimoHombresNoESO.shape[0] + desanimoHombresSiESO.shape[0])\n",
    "print \"Hombres que opinan que si se las desanima y son de Bach: \" + str(desanimoHombresSiBach.shape[0])   + \"/\" + str(desanimoHombresNoBach.shape[0] + desanimoHombresSiBach.shape[0])\n",
    "print \"Hombres que opinan que si se las desanima y son de estudios superiores: \" + str(desanimoHombresSiUni.shape[0])   + \"/\" + str(desanimoHombresNoUni.shape[0] + desanimoHombresSiUni.shape[0])"
   ]
  },
  {
   "cell_type": "code",
   "execution_count": 110,
   "metadata": {
    "collapsed": true
   },
   "outputs": [],
   "source": [
    "estudiosFuturoMujeresPrimaria = mujeres.filter(['EstudiosActuales', 'EstudiosFuturosPrimaria'], axis=1)\n",
    "estudiosFuturoMujeresPrimaria = estudiosFuturoMujeresPrimaria[estudiosFuturoMujeresPrimaria['EstudiosActuales'] == 'Primaria']\n",
    "estudiosFuturoMujeresPrimaria = estudiosFuturoMujeresPrimaria.groupby(['EstudiosFuturosPrimaria']).count()"
   ]
  },
  {
   "cell_type": "code",
   "execution_count": 111,
   "metadata": {
    "collapsed": true,
    "scrolled": false
   },
   "outputs": [],
   "source": [
    "estudiosFuturoMujeresBach = mujeres.filter(['EstudiosActuales', 'EstudiosFuturosBach'], axis=1)\n",
    "estudiosFuturoMujeresBach = estudiosFuturoMujeresBach[estudiosFuturoMujeresBach['EstudiosActuales'] != 'Primaria']\n",
    "datosGrafica = []\n",
    "def removeNonAscii(s): return \"\".join(i for i in s if ord(i)<128)\n",
    "for i in xrange(0, len(estudiosFuturoMujeresBach.groupby(['EstudiosFuturosBach']).count().values)):\n",
    "    datosGrafica.append(estudiosFuturoMujeresBach.groupby(['EstudiosFuturosBach']).count().values[i][0])\n",
    "\n",
    "etiquetasDatosGrafica = list(set(estudiosFuturoMujeresBach['EstudiosFuturosBach'].values))\n",
    "etiquetasDatosGrafica = etiquetasDatosGrafica[1:]\n",
    "\n",
    "for i in xrange(0, len(etiquetasDatosGrafica)):\n",
    "    etiquetasDatosGrafica[i] = removeNonAscii(etiquetasDatosGrafica[i])"
   ]
  },
  {
   "cell_type": "code",
   "execution_count": 112,
   "metadata": {},
   "outputs": [],
   "source": [
    "\n",
    "N = len(datosGrafica)\n",
    "ind = np.arange(N)  # the x locations for the groups\n",
    "width = 0.35       # the width of the bars\n",
    "\n",
    "fig, ax = plt.subplots()\n",
    "rects1 = ax.bar(ind, datosGrafica, width, color='b')\n",
    "\n",
    "# add some text for labels, title and axes ticks\n",
    "ax.set_title('Estudios futuros mujeres')\n",
    "ax.set_xticks(ind + width / 2)\n",
    "ax.set_xticklabels(sorted(etiquetasDatosGrafica), rotation='vertical')\n",
    "\n",
    "def autolabel(rects):\n",
    "    \"\"\"\n",
    "    Attach a text label above each bar displaying its height\n",
    "    \"\"\"\n",
    "    for rect in rects:\n",
    "        height = rect.get_height()\n",
    "        ax.text(rect.get_x() + rect.get_width()/2., 1.0*height,\n",
    "                '%d' % int(height),\n",
    "                ha='center', va='bottom')\n",
    "\n",
    "autolabel(rects1)\n",
    "\n",
    "plt.savefig('mujeresGrafica.png', bbox_inches='tight')"
   ]
  },
  {
   "cell_type": "code",
   "execution_count": 113,
   "metadata": {
    "collapsed": true
   },
   "outputs": [],
   "source": [
    "\n",
    "estudiosFuturoHombresBach = hombres.filter(['EstudiosActuales', 'EstudiosFuturosBach'], axis=1)\n",
    "estudiosFuturoHombresBach = estudiosFuturoHombresBach[estudiosFuturoHombresBach['EstudiosActuales'] != 'Primaria']\n",
    "\n",
    "datosGrafica = []\n",
    "\n",
    "def removeNonAscii(s): return \"\".join(i for i in s if ord(i)<128)\n",
    "\n",
    "for i in xrange(0, len(estudiosFuturoHombresBach.groupby(['EstudiosFuturosBach']).count().values)):\n",
    "    datosGrafica.append(estudiosFuturoHombresBach.groupby(['EstudiosFuturosBach']).count().values[i][0])\n",
    "\n",
    "etiquetasDatosGrafica = list(set(estudiosFuturoHombresBach['EstudiosFuturosBach'].values))\n",
    "etiquetasDatosGrafica = etiquetasDatosGrafica[1:]\n",
    "\n",
    "for i in xrange(0, len(etiquetasDatosGrafica)):\n",
    "    etiquetasDatosGrafica[i] = removeNonAscii(etiquetasDatosGrafica[i])"
   ]
  },
  {
   "cell_type": "code",
   "execution_count": 114,
   "metadata": {},
   "outputs": [],
   "source": [
    "\n",
    "N = len(datosGrafica)\n",
    "ind = np.arange(N)  # the x locations for the groups\n",
    "width = 0.35       # the width of the bars\n",
    "\n",
    "fig, ax = plt.subplots()\n",
    "rects1 = ax.bar(ind, datosGrafica, width, color='b')\n",
    "\n",
    "# add some text for labels, title and axes ticks\n",
    "ax.set_title('Estudios futuros hombres')\n",
    "ax.set_xticks(ind + width / 2)\n",
    "ax.set_xticklabels(sorted(etiquetasDatosGrafica), rotation='vertical')\n",
    "\n",
    "def autolabel(rects):\n",
    "    \"\"\"\n",
    "    Attach a text label above each bar displaying its height\n",
    "    \"\"\"\n",
    "    for rect in rects:\n",
    "        height = rect.get_height()\n",
    "        ax.text(rect.get_x() + rect.get_width()/2., 1.0*height,\n",
    "                '%d' % int(height),\n",
    "                ha='center', va='bottom')\n",
    "\n",
    "autolabel(rects1)\n",
    "\n",
    "plt.savefig('hombresGrafica.png', bbox_inches='tight')"
   ]
  },
  {
   "cell_type": "markdown",
   "metadata": {},
   "source": [
    "<p>Que asignaturas les gustan más a las mujeres según la edad</p>"
   ]
  },
  {
   "cell_type": "code",
   "execution_count": 115,
   "metadata": {
    "collapsed": true
   },
   "outputs": [],
   "source": [
    "asignaturasMujeres = mujeres.filter(['Edad', 'AsignaturasPreferidasPrimaria', 'AsignaturasPreferidasBach'], axis=1)"
   ]
  },
  {
   "cell_type": "code",
   "execution_count": 116,
   "metadata": {},
   "outputs": [
    {
     "data": {
      "text/html": [
       "<div>\n",
       "<style scoped>\n",
       "    .dataframe tbody tr th:only-of-type {\n",
       "        vertical-align: middle;\n",
       "    }\n",
       "\n",
       "    .dataframe tbody tr th {\n",
       "        vertical-align: top;\n",
       "    }\n",
       "\n",
       "    .dataframe thead th {\n",
       "        text-align: right;\n",
       "    }\n",
       "</style>\n",
       "<table border=\"1\" class=\"dataframe\">\n",
       "  <thead>\n",
       "    <tr style=\"text-align: right;\">\n",
       "      <th></th>\n",
       "      <th>Edad</th>\n",
       "      <th>AsignaturasPreferidasPrimaria</th>\n",
       "      <th>AsignaturasPreferidasBach</th>\n",
       "    </tr>\n",
       "  </thead>\n",
       "  <tbody>\n",
       "    <tr>\n",
       "      <th>0</th>\n",
       "      <td>17</td>\n",
       "      <td>NaN</td>\n",
       "      <td>Ciencias de la Naturaleza, Biología...;Matemát...</td>\n",
       "    </tr>\n",
       "    <tr>\n",
       "      <th>1</th>\n",
       "      <td>17</td>\n",
       "      <td>NaN</td>\n",
       "      <td>Ciencias de la Naturaleza, Biología...;Química</td>\n",
       "    </tr>\n",
       "    <tr>\n",
       "      <th>2</th>\n",
       "      <td>17</td>\n",
       "      <td>NaN</td>\n",
       "      <td>Ciencias de la Naturaleza, Biología...;Matemát...</td>\n",
       "    </tr>\n",
       "    <tr>\n",
       "      <th>5</th>\n",
       "      <td>15</td>\n",
       "      <td>NaN</td>\n",
       "      <td>Matemáticas;Idiomas;Educación Física</td>\n",
       "    </tr>\n",
       "    <tr>\n",
       "      <th>6</th>\n",
       "      <td>16</td>\n",
       "      <td>NaN</td>\n",
       "      <td>Ciencias Sociales, Historia, Filosofía...;Leng...</td>\n",
       "    </tr>\n",
       "  </tbody>\n",
       "</table>\n",
       "</div>"
      ],
      "text/plain": [
       "   Edad AsignaturasPreferidasPrimaria  \\\n",
       "0    17                           NaN   \n",
       "1    17                           NaN   \n",
       "2    17                           NaN   \n",
       "5    15                           NaN   \n",
       "6    16                           NaN   \n",
       "\n",
       "                           AsignaturasPreferidasBach  \n",
       "0  Ciencias de la Naturaleza, Biología...;Matemát...  \n",
       "1     Ciencias de la Naturaleza, Biología...;Química  \n",
       "2  Ciencias de la Naturaleza, Biología...;Matemát...  \n",
       "5               Matemáticas;Idiomas;Educación Física  \n",
       "6  Ciencias Sociales, Historia, Filosofía...;Leng...  "
      ]
     },
     "execution_count": 116,
     "metadata": {},
     "output_type": "execute_result"
    }
   ],
   "source": [
    "asignaturasMujeres.head()"
   ]
  },
  {
   "cell_type": "code",
   "execution_count": 150,
   "metadata": {},
   "outputs": [],
   "source": [
    "asignaturasMujeres = asignaturasMujeres.sort_values(by=['Edad'])\n",
    "asignaturasMujeres = asignaturasMujeres.fillna('XXX')\n",
    "mask912 = (asignaturasMujeres['Edad'] >= 9) & (asignaturasMujeres['Edad'] <= 12)\n",
    "mask1315 = (asignaturasMujeres['Edad'] >= 13) & (asignaturasMujeres['Edad'] <= 15)\n",
    "mask1630 = (asignaturasMujeres['Edad'] >= 16) & (asignaturasMujeres['Edad'] <= 30)\n",
    "asignaturasMujeres912 = asignaturasMujeres.loc[mask912]\n",
    "asignaturasMujeres912 = asignaturasMujeres912[(asignaturasMujeres912['AsignaturasPreferidasPrimaria'] != 'XXX')]\n",
    "asignaturasMujeres1315 = asignaturasMujeres.loc[mask1315]\n",
    "asignaturasMujeres1315 = asignaturasMujeres1315[(asignaturasMujeres1315['AsignaturasPreferidasBach'] != 'XXX')]\n",
    "asignaturasMujeres1630 = asignaturasMujeres.loc[mask1630]\n",
    "asignaturasMujeres1630 = asignaturasMujeres1630[(asignaturasMujeres1630['AsignaturasPreferidasBach'] != 'XXX')]"
   ]
  },
  {
   "cell_type": "code",
   "execution_count": 151,
   "metadata": {},
   "outputs": [],
   "source": [
    "datosGrafica = []\n",
    "\n",
    "def removeNonAscii(s): return \"\".join(i for i in s if ord(i)<128)\n",
    "\n",
    "for i in xrange(0, len(asignaturasMujeres912.groupby(['AsignaturasPreferidasPrimaria']).count().values)):\n",
    "    datosGrafica.append(asignaturasMujeres912.groupby(['AsignaturasPreferidasPrimaria']).count().values[i][0])\n",
    "\n",
    "etiquetasDatosGrafica = list(set(asignaturasMujeres912['AsignaturasPreferidasPrimaria'].values))\n",
    "\n",
    "for i in xrange(0, len(etiquetasDatosGrafica)):\n",
    "    etiquetasDatosGrafica[i] = removeNonAscii(etiquetasDatosGrafica[i])"
   ]
  },
  {
   "cell_type": "code",
   "execution_count": 154,
   "metadata": {},
   "outputs": [],
   "source": [
    "N = len(datosGrafica)\n",
    "ind = np.arange(N)  # the x locations for the groups\n",
    "width = 0.35       # the width of the bars\n",
    "\n",
    "fig, ax = plt.subplots()\n",
    "rects1 = ax.bar(ind, datosGrafica, width, color='b')\n",
    "\n",
    "# add some text for labels, title and axes ticks\n",
    "ax.set_title('Asignaturas preferidas mujeres con edad entre 9 y 12')\n",
    "ax.set_xticks(ind + width / 2)\n",
    "ax.set_xticklabels(sorted(etiquetasDatosGrafica), rotation='vertical')\n",
    "\n",
    "def autolabel(rects):\n",
    "    \"\"\"\n",
    "    Attach a text label above each bar displaying its height\n",
    "    \"\"\"\n",
    "    for rect in rects:\n",
    "        height = rect.get_height()\n",
    "        ax.text(rect.get_x() + rect.get_width()/2., 1.0*height,\n",
    "                '%d' % int(height),\n",
    "                ha='center', va='bottom')\n",
    "\n",
    "autolabel(rects1)\n",
    "\n",
    "plt.savefig('asignaturasMujeres912.png', bbox_inches='tight')"
   ]
  },
  {
   "cell_type": "code",
   "execution_count": 155,
   "metadata": {
    "collapsed": true
   },
   "outputs": [],
   "source": [
    "datosGrafica = []\n",
    "\n",
    "def removeNonAscii(s): return \"\".join(i for i in s if ord(i)<128)\n",
    "\n",
    "for i in xrange(0, len(asignaturasMujeres1315.groupby(['AsignaturasPreferidasBach']).count().values)):\n",
    "    datosGrafica.append(asignaturasMujeres1315.groupby(['AsignaturasPreferidasBach']).count().values[i][0])\n",
    "\n",
    "etiquetasDatosGrafica = list(set(asignaturasMujeres1315['AsignaturasPreferidasBach'].values))\n",
    "\n",
    "for i in xrange(0, len(etiquetasDatosGrafica)):\n",
    "    etiquetasDatosGrafica[i] = removeNonAscii(etiquetasDatosGrafica[i])"
   ]
  },
  {
   "cell_type": "code",
   "execution_count": 156,
   "metadata": {},
   "outputs": [
    {
     "name": "stderr",
     "output_type": "stream",
     "text": [
      "/Library/Frameworks/Python.framework/Versions/2.7/lib/python2.7/site-packages/matplotlib/pyplot.py:524: RuntimeWarning: More than 20 figures have been opened. Figures created through the pyplot interface (`matplotlib.pyplot.figure`) are retained until explicitly closed and may consume too much memory. (To control this warning, see the rcParam `figure.max_open_warning`).\n",
      "  max_open_warning, RuntimeWarning)\n"
     ]
    }
   ],
   "source": [
    "N = len(datosGrafica)\n",
    "ind = np.arange(N)  # the x locations for the groups\n",
    "width = 0.35       # the width of the bars\n",
    "\n",
    "fig, ax = plt.subplots()\n",
    "rects1 = ax.bar(ind, datosGrafica, width, color='b')\n",
    "\n",
    "# add some text for labels, title and axes ticks\n",
    "ax.set_title('Asignaturas preferidas mujeres con edad entre 13 y 15')\n",
    "ax.set_xticks(ind + width / 2)\n",
    "ax.set_xticklabels(sorted(etiquetasDatosGrafica), rotation='vertical')\n",
    "\n",
    "def autolabel(rects):\n",
    "    \"\"\"\n",
    "    Attach a text label above each bar displaying its height\n",
    "    \"\"\"\n",
    "    for rect in rects:\n",
    "        height = rect.get_height()\n",
    "        ax.text(rect.get_x() + rect.get_width()/2., 1.0*height,\n",
    "                '%d' % int(height),\n",
    "                ha='center', va='bottom')\n",
    "\n",
    "autolabel(rects1)\n",
    "\n",
    "plt.savefig('asignaturasMujeres1315.png', bbox_inches='tight')"
   ]
  },
  {
   "cell_type": "code",
   "execution_count": 157,
   "metadata": {
    "collapsed": true
   },
   "outputs": [],
   "source": [
    "datosGrafica = []\n",
    "\n",
    "def removeNonAscii(s): return \"\".join(i for i in s if ord(i)<128)\n",
    "\n",
    "for i in xrange(0, len(asignaturasMujeres1630.groupby(['AsignaturasPreferidasBach']).count().values)):\n",
    "    datosGrafica.append(asignaturasMujeres1630.groupby(['AsignaturasPreferidasBach']).count().values[i][0])\n",
    "\n",
    "etiquetasDatosGrafica = list(set(asignaturasMujeres1630['AsignaturasPreferidasBach'].values))\n",
    "\n",
    "for i in xrange(0, len(etiquetasDatosGrafica)):\n",
    "    etiquetasDatosGrafica[i] = removeNonAscii(etiquetasDatosGrafica[i])"
   ]
  },
  {
   "cell_type": "code",
   "execution_count": 158,
   "metadata": {
    "collapsed": true
   },
   "outputs": [],
   "source": [
    "N = len(datosGrafica)\n",
    "ind = np.arange(N)  # the x locations for the groups\n",
    "width = 0.35       # the width of the bars\n",
    "\n",
    "fig, ax = plt.subplots()\n",
    "rects1 = ax.bar(ind, datosGrafica, width, color='b')\n",
    "\n",
    "# add some text for labels, title and axes ticks\n",
    "ax.set_title('Asignaturas preferidas mujeres con edad entre 16 y 30')\n",
    "ax.set_xticks(ind + width / 2)\n",
    "ax.set_xticklabels(sorted(etiquetasDatosGrafica), rotation='vertical')\n",
    "\n",
    "def autolabel(rects):\n",
    "    \"\"\"\n",
    "    Attach a text label above each bar displaying its height\n",
    "    \"\"\"\n",
    "    for rect in rects:\n",
    "        height = rect.get_height()\n",
    "        ax.text(rect.get_x() + rect.get_width()/2., 1.0*height,\n",
    "                '%d' % int(height),\n",
    "                ha='center', va='bottom')\n",
    "\n",
    "autolabel(rects1)\n",
    "\n",
    "plt.savefig('asignaturasMujeres1630.png', bbox_inches='tight')"
   ]
  },
  {
   "cell_type": "markdown",
   "metadata": {},
   "source": [
    "Asignaturas que se le dan peor a las mujeres según la edad"
   ]
  },
  {
   "cell_type": "code",
   "execution_count": 159,
   "metadata": {
    "collapsed": true
   },
   "outputs": [],
   "source": [
    "asignaturasMujeres = mujeres.filter(['Edad', 'AsignaturasPeorPrimaria', 'AsignaturasPeorBach'], axis=1)"
   ]
  },
  {
   "cell_type": "code",
   "execution_count": 160,
   "metadata": {
    "collapsed": true
   },
   "outputs": [],
   "source": [
    "asignaturasMujeres = asignaturasMujeres.sort_values(by=['Edad'])\n",
    "asignaturasMujeres = asignaturasMujeres.fillna('XXX')\n",
    "mask912 = (asignaturasMujeres['Edad'] >= 9) & (asignaturasMujeres['Edad'] <= 12)\n",
    "mask1315 = (asignaturasMujeres['Edad'] >= 13) & (asignaturasMujeres['Edad'] <= 15)\n",
    "mask1630 = (asignaturasMujeres['Edad'] >= 16) & (asignaturasMujeres['Edad'] <= 30)\n",
    "asignaturasMujeres912 = asignaturasMujeres.loc[mask912]\n",
    "asignaturasMujeres912 = asignaturasMujeres912[(asignaturasMujeres912['AsignaturasPeorPrimaria'] != 'XXX')]\n",
    "asignaturasMujeres1315 = asignaturasMujeres.loc[mask1315]\n",
    "asignaturasMujeres1315 = asignaturasMujeres1315[(asignaturasMujeres1315['AsignaturasPeorBach'] != 'XXX')]\n",
    "asignaturasMujeres1630 = asignaturasMujeres.loc[mask1630]\n",
    "asignaturasMujeres1630 = asignaturasMujeres1630[(asignaturasMujeres1630['AsignaturasPeorBach'] != 'XXX')]"
   ]
  },
  {
   "cell_type": "code",
   "execution_count": 161,
   "metadata": {
    "collapsed": true
   },
   "outputs": [],
   "source": [
    "datosGrafica = []\n",
    "\n",
    "def removeNonAscii(s): return \"\".join(i for i in s if ord(i)<128)\n",
    "\n",
    "for i in xrange(0, len(asignaturasMujeres912.groupby(['AsignaturasPeorPrimaria']).count().values)):\n",
    "    datosGrafica.append(asignaturasMujeres912.groupby(['AsignaturasPeorPrimaria']).count().values[i][0])\n",
    "\n",
    "etiquetasDatosGrafica = list(set(asignaturasMujeres912['AsignaturasPeorPrimaria'].values))\n",
    "\n",
    "for i in xrange(0, len(etiquetasDatosGrafica)):\n",
    "    etiquetasDatosGrafica[i] = removeNonAscii(etiquetasDatosGrafica[i])"
   ]
  },
  {
   "cell_type": "code",
   "execution_count": 162,
   "metadata": {
    "collapsed": true
   },
   "outputs": [],
   "source": [
    "N = len(datosGrafica)\n",
    "ind = np.arange(N)  # the x locations for the groups\n",
    "width = 0.35       # the width of the bars\n",
    "\n",
    "fig, ax = plt.subplots()\n",
    "rects1 = ax.bar(ind, datosGrafica, width, color='b')\n",
    "\n",
    "# add some text for labels, title and axes ticks\n",
    "ax.set_title('Asignaturas que se les dan peor a las mujeres con edad entre 9 y 12')\n",
    "ax.set_xticks(ind + width / 2)\n",
    "ax.set_xticklabels(sorted(etiquetasDatosGrafica), rotation='vertical')\n",
    "\n",
    "def autolabel(rects):\n",
    "    \"\"\"\n",
    "    Attach a text label above each bar displaying its height\n",
    "    \"\"\"\n",
    "    for rect in rects:\n",
    "        height = rect.get_height()\n",
    "        ax.text(rect.get_x() + rect.get_width()/2., 1.0*height,\n",
    "                '%d' % int(height),\n",
    "                ha='center', va='bottom')\n",
    "\n",
    "autolabel(rects1)\n",
    "\n",
    "plt.savefig('asignaturasPeorMujeres912.png', bbox_inches='tight')"
   ]
  },
  {
   "cell_type": "code",
   "execution_count": 163,
   "metadata": {
    "collapsed": true
   },
   "outputs": [],
   "source": [
    "datosGrafica = []\n",
    "\n",
    "def removeNonAscii(s): return \"\".join(i for i in s if ord(i)<128)\n",
    "\n",
    "for i in xrange(0, len(asignaturasMujeres1315.groupby(['AsignaturasPeorBach']).count().values)):\n",
    "    datosGrafica.append(asignaturasMujeres1315.groupby(['AsignaturasPeorBach']).count().values[i][0])\n",
    "\n",
    "etiquetasDatosGrafica = list(set(asignaturasMujeres1315['AsignaturasPeorBach'].values))\n",
    "\n",
    "for i in xrange(0, len(etiquetasDatosGrafica)):\n",
    "    etiquetasDatosGrafica[i] = removeNonAscii(etiquetasDatosGrafica[i])"
   ]
  },
  {
   "cell_type": "code",
   "execution_count": 164,
   "metadata": {
    "collapsed": true
   },
   "outputs": [],
   "source": [
    "N = len(datosGrafica)\n",
    "ind = np.arange(N)  # the x locations for the groups\n",
    "width = 0.35       # the width of the bars\n",
    "\n",
    "fig, ax = plt.subplots()\n",
    "rects1 = ax.bar(ind, datosGrafica, width, color='b')\n",
    "\n",
    "# add some text for labels, title and axes ticks\n",
    "ax.set_title('Asignaturas que se les dan peor a las mujeres con edad entre 13 y 15')\n",
    "ax.set_xticks(ind + width / 2)\n",
    "ax.set_xticklabels(sorted(etiquetasDatosGrafica), rotation='vertical')\n",
    "\n",
    "def autolabel(rects):\n",
    "    \"\"\"\n",
    "    Attach a text label above each bar displaying its height\n",
    "    \"\"\"\n",
    "    for rect in rects:\n",
    "        height = rect.get_height()\n",
    "        ax.text(rect.get_x() + rect.get_width()/2., 1.0*height,\n",
    "                '%d' % int(height),\n",
    "                ha='center', va='bottom')\n",
    "\n",
    "autolabel(rects1)\n",
    "\n",
    "plt.savefig('asignaturasPeorMujeres1315.png', bbox_inches='tight')"
   ]
  },
  {
   "cell_type": "code",
   "execution_count": 165,
   "metadata": {
    "collapsed": true
   },
   "outputs": [],
   "source": [
    "datosGrafica = []\n",
    "\n",
    "def removeNonAscii(s): return \"\".join(i for i in s if ord(i)<128)\n",
    "\n",
    "for i in xrange(0, len(asignaturasMujeres1630.groupby(['AsignaturasPeorBach']).count().values)):\n",
    "    datosGrafica.append(asignaturasMujeres1630.groupby(['AsignaturasPeorBach']).count().values[i][0])\n",
    "\n",
    "etiquetasDatosGrafica = list(set(asignaturasMujeres1630['AsignaturasPeorBach'].values))\n",
    "\n",
    "for i in xrange(0, len(etiquetasDatosGrafica)):\n",
    "    etiquetasDatosGrafica[i] = removeNonAscii(etiquetasDatosGrafica[i])"
   ]
  },
  {
   "cell_type": "code",
   "execution_count": 166,
   "metadata": {
    "collapsed": true
   },
   "outputs": [],
   "source": [
    "N = len(datosGrafica)\n",
    "ind = np.arange(N)  # the x locations for the groups\n",
    "width = 0.35       # the width of the bars\n",
    "\n",
    "fig, ax = plt.subplots()\n",
    "rects1 = ax.bar(ind, datosGrafica, width, color='b')\n",
    "\n",
    "# add some text for labels, title and axes ticks\n",
    "ax.set_title('Asignaturas que se les dan peor a las mujeres con edad entre 16 y 30')\n",
    "ax.set_xticks(ind + width / 2)\n",
    "ax.set_xticklabels(sorted(etiquetasDatosGrafica), rotation='vertical')\n",
    "\n",
    "def autolabel(rects):\n",
    "    \"\"\"\n",
    "    Attach a text label above each bar displaying its height\n",
    "    \"\"\"\n",
    "    for rect in rects:\n",
    "        height = rect.get_height()\n",
    "        ax.text(rect.get_x() + rect.get_width()/2., 1.0*height,\n",
    "                '%d' % int(height),\n",
    "                ha='center', va='bottom')\n",
    "\n",
    "autolabel(rects1)\n",
    "\n",
    "plt.savefig('asignaturasPeorMujeres1630.png', bbox_inches='tight')"
   ]
  },
  {
   "cell_type": "code",
   "execution_count": null,
   "metadata": {
    "collapsed": true
   },
   "outputs": [],
   "source": []
  }
 ],
 "metadata": {
  "kernelspec": {
   "display_name": "Python 2",
   "language": "python",
   "name": "python2"
  },
  "language_info": {
   "codemirror_mode": {
    "name": "ipython",
    "version": 2
   },
   "file_extension": ".py",
   "mimetype": "text/x-python",
   "name": "python",
   "nbconvert_exporter": "python",
   "pygments_lexer": "ipython2",
   "version": "2.7.13"
  }
 },
 "nbformat": 4,
 "nbformat_minor": 2
}
